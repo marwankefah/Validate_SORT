{
  "nbformat": 4,
  "nbformat_minor": 0,
  "metadata": {
    "colab": {
      "name": "Validate_Sort.ipynb",
      "provenance": [],
      "collapsed_sections": [],
      "authorship_tag": "ABX9TyMFtWAjtcKVG4uWrEUGgT0o",
      "include_colab_link": true
    },
    "kernelspec": {
      "name": "python3",
      "display_name": "Python 3"
    },
    "language_info": {
      "name": "python"
    }
  },
  "cells": [
    {
      "cell_type": "markdown",
      "metadata": {
        "id": "view-in-github",
        "colab_type": "text"
      },
      "source": [
        "<a href=\"https://colab.research.google.com/github/marwankefah/Validate_SORT/blob/main/Validate_Sort.ipynb\" target=\"_parent\"><img src=\"https://colab.research.google.com/assets/colab-badge.svg\" alt=\"Open In Colab\"/></a>"
      ]
    },
    {
      "cell_type": "markdown",
      "metadata": {
        "id": "M4xUFrwU5hsU"
      },
      "source": [
        "## MOT Data For hydration"
      ]
    },
    {
      "cell_type": "code",
      "metadata": {
        "colab": {
          "base_uri": "https://localhost:8080/"
        },
        "id": "nuwWyMhyqDZK",
        "outputId": "0080318c-9661-44a6-adec-b650b55acf81"
      },
      "source": [
        "!git clone https://github.com/JonathonLuiten/TrackEval"
      ],
      "execution_count": 1,
      "outputs": [
        {
          "output_type": "stream",
          "text": [
            "Cloning into 'TrackEval'...\n",
            "remote: Enumerating objects: 821, done.\u001b[K\n",
            "remote: Counting objects: 100% (313/313), done.\u001b[K\n",
            "remote: Compressing objects: 100% (65/65), done.\u001b[K\n",
            "remote: Total 821 (delta 278), reused 250 (delta 248), pack-reused 508\u001b[K\n",
            "Receiving objects: 100% (821/821), 287.48 KiB | 11.98 MiB/s, done.\n",
            "Resolving deltas: 100% (549/549), done.\n"
          ],
          "name": "stdout"
        }
      ]
    },
    {
      "cell_type": "code",
      "metadata": {
        "colab": {
          "base_uri": "https://localhost:8080/"
        },
        "id": "zvwYYUwiq6Bo",
        "outputId": "d9029495-193a-4a66-e801-0522abd41324"
      },
      "source": [
        "!wget https://omnomnom.vision.rwth-aachen.de/data/TrackEval/data.zip"
      ],
      "execution_count": 2,
      "outputs": [
        {
          "output_type": "stream",
          "text": [
            "--2021-06-21 00:19:11--  https://omnomnom.vision.rwth-aachen.de/data/TrackEval/data.zip\n",
            "Resolving omnomnom.vision.rwth-aachen.de (omnomnom.vision.rwth-aachen.de)... 137.226.34.132\n",
            "Connecting to omnomnom.vision.rwth-aachen.de (omnomnom.vision.rwth-aachen.de)|137.226.34.132|:443... connected.\n",
            "HTTP request sent, awaiting response... 200 OK\n",
            "Length: 149957160 (143M) [application/zip]\n",
            "Saving to: ‘data.zip’\n",
            "\n",
            "data.zip            100%[===================>] 143.01M  20.6MB/s    in 7.9s    \n",
            "\n",
            "2021-06-21 00:19:20 (18.1 MB/s) - ‘data.zip’ saved [149957160/149957160]\n",
            "\n"
          ],
          "name": "stdout"
        }
      ]
    },
    {
      "cell_type": "code",
      "metadata": {
        "id": "RR9Lyb2iq8c3"
      },
      "source": [
        "!unzip data.zip"
      ],
      "execution_count": null,
      "outputs": []
    },
    {
      "cell_type": "code",
      "metadata": {
        "id": "VhvZw1ujqkwO"
      },
      "source": [
        "!mv /content/data /content/TrackEval"
      ],
      "execution_count": 4,
      "outputs": []
    },
    {
      "cell_type": "code",
      "metadata": {
        "colab": {
          "base_uri": "https://localhost:8080/"
        },
        "id": "16K8tU8a4MEv",
        "outputId": "e913ba92-f8fb-4503-fa63-acb448f9fd2e"
      },
      "source": [
        "!wget https://motchallenge.net/data/MOT15Labels.zip"
      ],
      "execution_count": 5,
      "outputs": [
        {
          "output_type": "stream",
          "text": [
            "--2021-06-21 00:19:27--  https://motchallenge.net/data/MOT15Labels.zip\n",
            "Resolving motchallenge.net (motchallenge.net)... 131.159.19.34, 2a09:80c0:18::1034\n",
            "Connecting to motchallenge.net (motchallenge.net)|131.159.19.34|:443... connected.\n",
            "HTTP request sent, awaiting response... 200 OK\n",
            "Length: 1534073 (1.5M) [application/zip]\n",
            "Saving to: ‘MOT15Labels.zip’\n",
            "\n",
            "MOT15Labels.zip     100%[===================>]   1.46M  1.61MB/s    in 0.9s    \n",
            "\n",
            "2021-06-21 00:19:29 (1.61 MB/s) - ‘MOT15Labels.zip’ saved [1534073/1534073]\n",
            "\n"
          ],
          "name": "stdout"
        }
      ]
    },
    {
      "cell_type": "code",
      "metadata": {
        "id": "Zy4FhOG24RIi"
      },
      "source": [
        "!unzip MOT15Labels.zip"
      ],
      "execution_count": null,
      "outputs": []
    },
    {
      "cell_type": "code",
      "metadata": {
        "id": "hjZXcFqaIPkH"
      },
      "source": [
        "# !wget https://motchallenge.net/data/MOT20Labels.zip"
      ],
      "execution_count": 7,
      "outputs": []
    },
    {
      "cell_type": "code",
      "metadata": {
        "id": "xc41YPsBIU4r"
      },
      "source": [
        "# !unzip MOT20Labels.zip"
      ],
      "execution_count": 8,
      "outputs": []
    },
    {
      "cell_type": "code",
      "metadata": {
        "colab": {
          "base_uri": "https://localhost:8080/"
        },
        "id": "hNC_RGzTE3Xt",
        "outputId": "2fc2f677-012d-4042-d334-7104056be828"
      },
      "source": [
        "!git clone https://github.com/marwankefah/Kalman_Tracking_Single_Camera"
      ],
      "execution_count": 9,
      "outputs": [
        {
          "output_type": "stream",
          "text": [
            "Cloning into 'Kalman_Tracking_Single_Camera'...\n",
            "remote: Enumerating objects: 60, done.\u001b[K\n",
            "remote: Counting objects: 100% (60/60), done.\u001b[K\n",
            "remote: Compressing objects: 100% (51/51), done.\u001b[K\n",
            "remote: Total 60 (delta 18), reused 31 (delta 8), pack-reused 0\u001b[K\n",
            "Unpacking objects: 100% (60/60), done.\n"
          ],
          "name": "stdout"
        }
      ]
    },
    {
      "cell_type": "code",
      "metadata": {
        "colab": {
          "base_uri": "https://localhost:8080/"
        },
        "id": "lPiPIQCHZTnW",
        "outputId": "b31d593c-e2f1-4fb4-9ff9-b9ad0aaf858b"
      },
      "source": [
        "!git clone https://github.com/abewley/sort"
      ],
      "execution_count": 10,
      "outputs": [
        {
          "output_type": "stream",
          "text": [
            "Cloning into 'sort'...\n",
            "remote: Enumerating objects: 202, done.\u001b[K\n",
            "remote: Counting objects: 100% (4/4), done.\u001b[K\n",
            "remote: Compressing objects: 100% (4/4), done.\u001b[K\n",
            "remote: Total 202 (delta 0), reused 0 (delta 0), pack-reused 198\u001b[K\n",
            "Receiving objects: 100% (202/202), 1.21 MiB | 16.92 MiB/s, done.\n",
            "Resolving deltas: 100% (69/69), done.\n"
          ],
          "name": "stdout"
        }
      ]
    },
    {
      "cell_type": "markdown",
      "metadata": {
        "id": "2VtgrAtJ5cYi"
      },
      "source": [
        "## Validating SORT REPO"
      ]
    },
    {
      "cell_type": "code",
      "metadata": {
        "id": "lkHrRr0_aPQj",
        "colab": {
          "base_uri": "https://localhost:8080/"
        },
        "outputId": "34d89a2c-2057-4792-f319-a742e892f4d3"
      },
      "source": [
        "!pip install filterpy"
      ],
      "execution_count": 11,
      "outputs": [
        {
          "output_type": "stream",
          "text": [
            "Collecting filterpy\n",
            "\u001b[?25l  Downloading https://files.pythonhosted.org/packages/f6/1d/ac8914360460fafa1990890259b7fa5ef7ba4cd59014e782e4ab3ab144d8/filterpy-1.4.5.zip (177kB)\n",
            "\r\u001b[K     |█▉                              | 10kB 16.6MB/s eta 0:00:01\r\u001b[K     |███▊                            | 20kB 21.9MB/s eta 0:00:01\r\u001b[K     |█████▌                          | 30kB 10.5MB/s eta 0:00:01\r\u001b[K     |███████▍                        | 40kB 8.2MB/s eta 0:00:01\r\u001b[K     |█████████▏                      | 51kB 5.3MB/s eta 0:00:01\r\u001b[K     |███████████                     | 61kB 5.6MB/s eta 0:00:01\r\u001b[K     |████████████▉                   | 71kB 6.3MB/s eta 0:00:01\r\u001b[K     |██████████████▊                 | 81kB 6.5MB/s eta 0:00:01\r\u001b[K     |████████████████▋               | 92kB 6.4MB/s eta 0:00:01\r\u001b[K     |██████████████████▍             | 102kB 5.1MB/s eta 0:00:01\r\u001b[K     |████████████████████▎           | 112kB 5.1MB/s eta 0:00:01\r\u001b[K     |██████████████████████          | 122kB 5.1MB/s eta 0:00:01\r\u001b[K     |████████████████████████        | 133kB 5.1MB/s eta 0:00:01\r\u001b[K     |█████████████████████████▊      | 143kB 5.1MB/s eta 0:00:01\r\u001b[K     |███████████████████████████▋    | 153kB 5.1MB/s eta 0:00:01\r\u001b[K     |█████████████████████████████▌  | 163kB 5.1MB/s eta 0:00:01\r\u001b[K     |███████████████████████████████▎| 174kB 5.1MB/s eta 0:00:01\r\u001b[K     |████████████████████████████████| 184kB 5.1MB/s \n",
            "\u001b[?25hRequirement already satisfied: numpy in /usr/local/lib/python3.7/dist-packages (from filterpy) (1.19.5)\n",
            "Requirement already satisfied: scipy in /usr/local/lib/python3.7/dist-packages (from filterpy) (1.4.1)\n",
            "Requirement already satisfied: matplotlib in /usr/local/lib/python3.7/dist-packages (from filterpy) (3.2.2)\n",
            "Requirement already satisfied: python-dateutil>=2.1 in /usr/local/lib/python3.7/dist-packages (from matplotlib->filterpy) (2.8.1)\n",
            "Requirement already satisfied: pyparsing!=2.0.4,!=2.1.2,!=2.1.6,>=2.0.1 in /usr/local/lib/python3.7/dist-packages (from matplotlib->filterpy) (2.4.7)\n",
            "Requirement already satisfied: cycler>=0.10 in /usr/local/lib/python3.7/dist-packages (from matplotlib->filterpy) (0.10.0)\n",
            "Requirement already satisfied: kiwisolver>=1.0.1 in /usr/local/lib/python3.7/dist-packages (from matplotlib->filterpy) (1.3.1)\n",
            "Requirement already satisfied: six>=1.5 in /usr/local/lib/python3.7/dist-packages (from python-dateutil>=2.1->matplotlib->filterpy) (1.15.0)\n",
            "Building wheels for collected packages: filterpy\n",
            "  Building wheel for filterpy (setup.py) ... \u001b[?25l\u001b[?25hdone\n",
            "  Created wheel for filterpy: filename=filterpy-1.4.5-cp37-none-any.whl size=110476 sha256=4fe873b25b1d13aef1bcdd2fcb14f1f63d7eabd8658d5a297cafecf356cea434\n",
            "  Stored in directory: /root/.cache/pip/wheels/c3/0c/dd/e92392c3f38a41371602d99fc77d6c1d42aadbf0c6afccdd02\n",
            "Successfully built filterpy\n",
            "Installing collected packages: filterpy\n",
            "Successfully installed filterpy-1.4.5\n"
          ],
          "name": "stdout"
        }
      ]
    },
    {
      "cell_type": "code",
      "metadata": {
        "colab": {
          "base_uri": "https://localhost:8080/"
        },
        "id": "-MrdKGZJ4vsR",
        "outputId": "020c5adf-af8a-444f-8baa-13e824d2ea0f"
      },
      "source": [
        "!pip install tk"
      ],
      "execution_count": 14,
      "outputs": [
        {
          "output_type": "stream",
          "text": [
            "Collecting tk\n",
            "  Downloading https://files.pythonhosted.org/packages/1e/0b/029cbdb868bb555fed99bf6540fff072d500b3f895873709f25084e85e33/tk-0.1.0-py3-none-any.whl\n",
            "Installing collected packages: tk\n",
            "Successfully installed tk-0.1.0\n"
          ],
          "name": "stdout"
        }
      ]
    },
    {
      "cell_type": "code",
      "metadata": {
        "colab": {
          "base_uri": "https://localhost:8080/"
        },
        "id": "wOjcC3YMZYR5",
        "outputId": "14ef8ada-791b-4dc4-dd52-cc0db940eced"
      },
      "source": [
        "from sort.sort import Sort\n",
        "import os\n",
        "import glob\n",
        "import time\n",
        "import numpy as np\n",
        "total_time = 0.0\n",
        "total_frames = 0\n",
        "max_age=100\n",
        "min_hits=1\n",
        "iou_threshold=0.4\n",
        "phase = '/content/MOT15Labels/train'\n",
        "seq_path='data'\n",
        "output=\"/content/TrackEval/data/trackers/mot_challenge/MOT15-train/MPNTrack/data/\"\n",
        "\n",
        "if not os.path.exists(output):\n",
        "  os.makedirs(output)\n",
        "pattern = os.path.join(seq_path, phase, '*', 'det', 'det.txt')\n",
        "for seq_dets_fn in glob.glob(pattern):\n",
        "  mot_tracker = Sort(max_age, min_hits, iou_threshold)\n",
        "  seq_dets = np.loadtxt(seq_dets_fn, delimiter=',')\n",
        "  seq = seq_dets_fn[pattern.find('*'):].split(os.path.sep)[0]\n",
        "  \n",
        "  with open(os.path.join(output, '%s.txt'%(seq)),'w') as out_file:\n",
        "    print(\"Processing %s.\"%(seq))\n",
        "    for frame in range(int(seq_dets[:,0].max())):\n",
        "      frame += 1 #detection and frame numbers begin at 1\n",
        "      dets = seq_dets[seq_dets[:, 0]==frame, 2:7]\n",
        "      dets[:, 2:4] += dets[:, 0:2] #convert to [x1,y1,w,h] to [x1,y1,x2,y2]\n",
        "      total_frames += 1\n",
        "\n",
        "      start_time = time.time()\n",
        "      trackers = mot_tracker.update(dets)\n",
        "      cycle_time = time.time() - start_time\n",
        "      total_time += cycle_time\n",
        "\n",
        "      for d in trackers:\n",
        "        print('%d,%d,%.2f,%.2f,%.2f,%.2f,1,-1,-1,-1'%(frame,d[4],d[0],d[1],d[2]-d[0],d[3]-d[1]),file=out_file)\n",
        "\n",
        "print(\"Total Tracking took: %.3f seconds for %d frames or %.1f FPS\" % (total_time, total_frames, total_frames / total_time))\n"
      ],
      "execution_count": 15,
      "outputs": [
        {
          "output_type": "stream",
          "text": [
            "Processing KITTI-13.\n",
            "Processing ADL-Rundle-6.\n",
            "Processing ETH-Pedcross2.\n",
            "Processing ETH-Bahnhof.\n",
            "Processing TUD-Campus.\n",
            "Processing ADL-Rundle-8.\n",
            "Processing TUD-Stadtmitte.\n",
            "Processing Venice-2.\n",
            "Processing ETH-Sunnyday.\n",
            "Processing KITTI-17.\n",
            "Processing PETS09-S2L1.\n",
            "Total Tracking took: 50.471 seconds for 5500 frames or 109.0 FPS\n"
          ],
          "name": "stdout"
        }
      ]
    },
    {
      "cell_type": "code",
      "metadata": {
        "colab": {
          "base_uri": "https://localhost:8080/"
        },
        "id": "y1f3oXezh6pH",
        "outputId": "62c01b71-e718-40e5-ea33-b5786c4e7399"
      },
      "source": [
        "!python TrackEval/scripts/run_mot_challenge.py --BENCHMARK MOT15 --SPLIT_TO_EVAL train --TRACKERS_TO_EVAL MPNTrack --METRICS HOTA CLEAR Identity VACE --USE_PARALLEL True"
      ],
      "execution_count": 16,
      "outputs": [
        {
          "output_type": "stream",
          "text": [
            "\n",
            "Eval Config:\n",
            "USE_PARALLEL         : True                          \n",
            "NUM_PARALLEL_CORES   : 8                             \n",
            "BREAK_ON_ERROR       : True                          \n",
            "RETURN_ON_ERROR      : False                         \n",
            "LOG_ON_ERROR         : /content/TrackEval/error_log.txt\n",
            "PRINT_RESULTS        : True                          \n",
            "PRINT_ONLY_COMBINED  : False                         \n",
            "PRINT_CONFIG         : True                          \n",
            "TIME_PROGRESS        : True                          \n",
            "DISPLAY_LESS_PROGRESS : False                         \n",
            "OUTPUT_SUMMARY       : True                          \n",
            "OUTPUT_EMPTY_CLASSES : True                          \n",
            "OUTPUT_DETAILED      : True                          \n",
            "PLOT_CURVES          : True                          \n",
            "\n",
            "MotChallenge2DBox Config:\n",
            "PRINT_CONFIG         : True                          \n",
            "GT_FOLDER            : /content/TrackEval/data/gt/mot_challenge/\n",
            "TRACKERS_FOLDER      : /content/TrackEval/data/trackers/mot_challenge/\n",
            "OUTPUT_FOLDER        : None                          \n",
            "TRACKERS_TO_EVAL     : ['MPNTrack']                  \n",
            "CLASSES_TO_EVAL      : ['pedestrian']                \n",
            "BENCHMARK            : MOT15                         \n",
            "SPLIT_TO_EVAL        : train                         \n",
            "INPUT_AS_ZIP         : False                         \n",
            "DO_PREPROC           : True                          \n",
            "TRACKER_SUB_FOLDER   : data                          \n",
            "OUTPUT_SUB_FOLDER    :                               \n",
            "TRACKER_DISPLAY_NAMES : None                          \n",
            "SEQMAP_FOLDER        : None                          \n",
            "SEQMAP_FILE          : None                          \n",
            "SEQ_INFO             : None                          \n",
            "GT_LOC_FORMAT        : {gt_folder}/{seq}/gt/gt.txt   \n",
            "SKIP_SPLIT_FOL       : False                         \n",
            "\n",
            "CLEAR Config:\n",
            "METRICS              : ['HOTA', 'CLEAR', 'Identity', 'VACE']\n",
            "THRESHOLD            : 0.5                           \n",
            "PRINT_CONFIG         : True                          \n",
            "\n",
            "Identity Config:\n",
            "METRICS              : ['HOTA', 'CLEAR', 'Identity', 'VACE']\n",
            "THRESHOLD            : 0.5                           \n",
            "PRINT_CONFIG         : True                          \n",
            "\n",
            "Evaluating 1 tracker(s) on 11 sequence(s) for 1 class(es) on MotChallenge2DBox dataset using the following metrics: HOTA, CLEAR, Identity, VACE, Count\n",
            "\n",
            "\n",
            "Evaluating MPNTrack\n",
            "\n",
            "\n",
            "All sequences for MPNTrack finished in 5.45 seconds\n",
            "\n",
            "HOTA: MPNTrack-pedestrian          HOTA      DetA      AssA      DetRe     DetPr     AssRe     AssPr     LocA      RHOTA     HOTA(0)   LocA(0)   HOTALocA(0)\n",
            "ADL-Rundle-6                       23.398    33.12     16.884    43.837    49.288    18.735    55.408    75.51     27.055    34.226    63.916    21.876    \n",
            "ADL-Rundle-8                       20.83     25.614    17.125    37.595    39.371    18.189    63.113    75.351    25.302    30.045    63.527    19.087    \n",
            "ETH-Bahnhof                        33.573    35.79     31.875    53.373    45.493    42.518    53.062    76.324    41.14     47.281    68.156    32.225    \n",
            "ETH-Pedcross2                      12.75     11.008    15.127    11.428    60.095    16.278    64.544    73.931    13.019    18.495    60.977    11.277    \n",
            "ETH-Sunnyday                       38.198    34.639    42.274    38.04     67.571    44.781    73.505    79.151    40.078    50.586    72.8      36.827    \n",
            "KITTI-13                           23.52     24.601    23.053    35.412    39.051    25.041    64.521    74.87     28.332    33.909    65.552    22.228    \n",
            "KITTI-17                           34.814    43.581    28.123    46.721    67.18     29.254    69.877    74.974    36.156    50.795    68.133    34.609    \n",
            "PETS09-S2L1                        30.783    52.391    18.489    67.68     57.68     19.828    63.472    76.037    35.178    43.579    69.664    30.359    \n",
            "TUD-Campus                         30.82     42.432    23.009    48.512    61.323    25.718    57.464    74.243    33.195    45.81     63.379    29.034    \n",
            "TUD-Stadtmitte                     34.853    43.932    28        51.448    55.635    30.165    53.824    71.825    37.838    56.881    60.775    34.569    \n",
            "Venice-2                           26.111    29.11     23.571    42.098    42.927    25.478    65.098    76.431    31.457    36.835    67.192    24.75     \n",
            "COMBINED                           26.54     31.055    23.005    41.228    47.97     26.254    61.199    75.692    30.684    37.777    66.358    25.068    \n",
            "\n",
            "CLEAR: MPNTrack-pedestrian         MOTA      MOTP      MODA      CLR_Re    CLR_Pr    MTR       PTR       MLR       sMOTA     CLR_TP    CLR_FN    CLR_FP    IDSW      MT        PT        ML        Frag      \n",
            "ADL-Rundle-6                       15.612    72.462    19.744    54.342    61.1      4.1667    87.5      8.3333    0.64714   2722      2287      1733      207       1         21        2         264       \n",
            "ADL-Rundle-8                       -4.6145   72.526    -2.0198   46.734    48.942    21.429    53.571    25        -17.454   3170      3613      3307      176       6         15        7         371       \n",
            "ETH-Bahnhof                        14.885    73.1      19.852    68.587    58.461    35.673    33.333    30.994    -3.5653   3714      1701      2639      269       61        57        53        281       \n",
            "ETH-Pedcross2                      8.2708    70.953    9.6918    14.354    75.483    1.5038    17.293    81.203    4.1014    899       5364      292       89        2         23        108       147       \n",
            "ETH-Sunnyday                       37.406    76.359    38.751    47.524    84.417    10        53.333    36.667    26.171    883       975       163       25        3         16        11        136       \n",
            "KITTI-13                           -10.367   71.014    2.231     46.457    51.23     0         61.905    38.095    -23.833   354       408       337       96        0         26        16        37        \n",
            "KITTI-17                           51.83     70.194    57.247    63.397    91.158    11.111    88.889    0         32.934    433       250       42        37        1         8         0         37        \n",
            "PETS09-S2L1                        56.233    71.786    64.298    90.818    77.399    89.474    10.526    0         30.61     4065      411       1187      361       17        2         0         122       \n",
            "TUD-Campus                         37.326    71.213    46.24     62.674    79.225    0         100       0         19.284    225       134       59        32        0         8         0         32        \n",
            "TUD-Stadtmitte                     50.692    65.47     53.547    73.01     78.952    50        50        0         25.482    844       312       225       33        5         5         0         29        \n",
            "Venice-2                           6.6377    73.473    10.181    54.124    55.191    19.231    69.231    11.538    -7.7198   3865      3276      3138      253       5         18        3         273       \n",
            "COMBINED                           16.224    72.374    20.178    53.061    61.739    20.2      39.8      40        1.565     21174     18731     13122     1578      101       199       200       1729      \n",
            "\n",
            "Identity: MPNTrack-pedestrian      IDF1      IDR       IDP       IDTP      IDFN      IDFP      \n",
            "ADL-Rundle-6                       30.6      28.908    32.503    1448      3561      3007      \n",
            "ADL-Rundle-8                       24.268    23.721    24.842    1609      5174      4868      \n",
            "ETH-Bahnhof                        43.1      46.833    39.918    2536      2879      3817      \n",
            "ETH-Pedcross2                      15.562    9.2607    48.699    580       5683      611       \n",
            "ETH-Sunnyday                       51.86     40.527    71.989    753       1105      293       \n",
            "KITTI-13                           29.043    27.69     30.535    211       551       480       \n",
            "KITTI-17                           53.022    44.949    64.632    307       376       168       \n",
            "PETS09-S2L1                        31.99     34.763    29.627    1556      2920      3696      \n",
            "TUD-Campus                         44.168    39.554    50        142       217       142       \n",
            "TUD-Stadtmitte                     50.787    48.875    52.853    565       591       504       \n",
            "Venice-2                           33.371    33.049    33.7      2360      4781      4643      \n",
            "COMBINED                           32.525    30.239    35.185    12067     27838     22229     \n",
            "\n",
            "VACE: MPNTrack-pedestrian          SFDA      ATA       \n",
            "ADL-Rundle-6                       46.514    5.4513    \n",
            "ADL-Rundle-8                       38.35     2.8536    \n",
            "ETH-Bahnhof                        49.825    17.012    \n",
            "ETH-Pedcross2                      17.544    7.1492    \n",
            "ETH-Sunnyday                       45.433    20.743    \n",
            "KITTI-13                           27.892    7.4296    \n",
            "KITTI-17                           55.287    16.69     \n",
            "PETS09-S2L1                        62.409    5.6164    \n",
            "TUD-Campus                         55.048    14.365    \n",
            "TUD-Stadtmitte                     54.216    16.483    \n",
            "Venice-2                           42.67     6.1446    \n",
            "COMBINED                           43.086    8.8921    \n",
            "\n",
            "Count: MPNTrack-pedestrian         Dets      GT_Dets   IDs       GT_IDs    \n",
            "ADL-Rundle-6                       4455      5009      255       24        \n",
            "ADL-Rundle-8                       6477      6783      489       28        \n",
            "ETH-Bahnhof                        6353      5415      397       171       \n",
            "ETH-Pedcross2                      1191      6263      180       133       \n",
            "ETH-Sunnyday                       1046      1858      57        30        \n",
            "KITTI-13                           691       762       219       42        \n",
            "KITTI-17                           475       683       37        9         \n",
            "PETS09-S2L1                        5252      4476      263       19        \n",
            "TUD-Campus                         284       359       35        8         \n",
            "TUD-Stadtmitte                     1069      1156      52        10        \n",
            "Venice-2                           7003      7141      256       26        \n",
            "COMBINED                           34296     39905     2240      500       \n"
          ],
          "name": "stdout"
        }
      ]
    },
    {
      "cell_type": "markdown",
      "metadata": {
        "id": "v3H3-Lng5e1J"
      },
      "source": [
        "## Validating Kalman Repo"
      ]
    },
    {
      "cell_type": "code",
      "metadata": {
        "id": "8ylF7fE8SpqG"
      },
      "source": [
        "def getPersonDet(detections):\n",
        "  detectionList=[]\n",
        "  for bbox,prob in detections:\n",
        "    if prob >=0.5:\n",
        "      detectionList.append(list(bbox2points(bbox)))\n",
        "  return np.array(detectionList)"
      ],
      "execution_count": 11,
      "outputs": []
    },
    {
      "cell_type": "code",
      "metadata": {
        "colab": {
          "base_uri": "https://localhost:8080/"
        },
        "id": "x2rglRrgFI5v",
        "outputId": "9dc89809-ae27-4843-da84-39b3ce586ba8"
      },
      "source": [
        "import os\n",
        "import numpy as np\n",
        "import glob\n",
        "import time\n",
        "from Kalman_Tracking_Single_Camera.src import tracking\n",
        "from Kalman_Tracking_Single_Camera.src import helpers as hp \n",
        "phase = '/content/MOT15Labels/train'\n",
        "total_time = 0.0\n",
        "total_frames = 0\n",
        "IOUThreshold=0.4\n",
        "removeTrackAfternFramesThres=40\n",
        "uncertaintyCount=1\n",
        "seq_path='data'\n",
        "output=\"/content/TrackEval/data/trackers/mot_challenge/MOT15-train/MPNTrack/data/\"\n",
        "# output=\"/content/TrackEval/data/trackers/mot_challenge/MOT16-train/MPNTrack/data/\"\n",
        "\n",
        "if not os.path.exists(output):\n",
        "  os.makedirs(output)\n",
        "pattern = os.path.join(seq_path, phase, '*', 'det', 'det.txt')\n",
        "for seq_dets_fn in glob.glob(pattern):\n",
        "  mot_tracker = tracking.KalmanTracking(IOUThreshold ,removeTrackAfternFramesThres,uncertaintyCount)\n",
        "  seq_dets = np.loadtxt(seq_dets_fn, delimiter=',')\n",
        "  seq = seq_dets_fn[pattern.find('*'):].split(os.path.sep)[0]\n",
        "  with open(os.path.join(output, '%s.txt'%(seq)),'w') as out_file:\n",
        "    print(\"Processing %s.\"%(seq))\n",
        "    for frame in range(int(seq_dets[:,0].max())):\n",
        "      frame += 1 #detection and frame numbers begin at 1\n",
        "      dets = seq_dets[seq_dets[:, 0]==frame, 2:7]\n",
        "      dets[:, 2:4] += dets[:, 0:2] #convert to [x1,y1,w,h] to [x1,y1,x2,y2]\n",
        "      total_frames += 1\n",
        "      start_time = time.time()\n",
        "\n",
        "      \n",
        "      if frame<=uncertaintyCount:\n",
        "        trackers= mot_tracker.match(dets[:,0:4],state=\"U\") \n",
        "      else:\n",
        "        trackers= mot_tracker.match(dets[:,0:4],state=\"C\") \n",
        "\n",
        "      cycle_time = time.time() - start_time\n",
        "      total_time += cycle_time\n",
        "\n",
        "      for d in trackers:\n",
        "        print('%d,%d,%.2f,%.2f,%.2f,%.2f,1,-1,-1,-1'%(frame,d[4],d[0],d[1],d[2]-d[0],d[3]-d[1]),file=out_file)\n",
        "\n",
        "    # break\n",
        "print(\"Total Tracking took: %.3f seconds for %d frames or %.1f FPS\" % (total_time, total_frames, total_frames / total_time))\n"
      ],
      "execution_count": 12,
      "outputs": [
        {
          "output_type": "stream",
          "text": [
            "Processing KITTI-13.\n"
          ],
          "name": "stdout"
        },
        {
          "output_type": "stream",
          "text": [
            "/content/Kalman_Tracking_Single_Camera/src/kf.py:63: VisibleDeprecationWarning: Creating an ndarray from ragged nested sequences (which is a list-or-tuple of lists-or-tuples-or ndarrays with different lengths or shapes) is deprecated. If you meant to do this, you must specify 'dtype=object' when creating the ndarray\n",
            "  return np.diag(np.square(standardDev)).astype(np.float32)\n"
          ],
          "name": "stderr"
        },
        {
          "output_type": "stream",
          "text": [
            "Processing ADL-Rundle-6.\n",
            "Processing ETH-Pedcross2.\n",
            "Processing ETH-Bahnhof.\n",
            "Processing TUD-Campus.\n",
            "Processing ADL-Rundle-8.\n",
            "Processing TUD-Stadtmitte.\n",
            "Processing Venice-2.\n",
            "Processing ETH-Sunnyday.\n",
            "Processing KITTI-17.\n",
            "Processing PETS09-S2L1.\n",
            "Total Tracking took: 18.325 seconds for 5500 frames or 300.1 FPS\n"
          ],
          "name": "stdout"
        }
      ]
    },
    {
      "cell_type": "code",
      "metadata": {
        "colab": {
          "base_uri": "https://localhost:8080/"
        },
        "id": "swnFNXtZqSNk",
        "outputId": "e2c19f06-18e6-4068-fb1e-a51e37d1e908"
      },
      "source": [
        "!python TrackEval/scripts/run_mot_challenge.py --BENCHMARK MOT15 --SPLIT_TO_EVAL train --TRACKERS_TO_EVAL MPNTrack --METRICS HOTA CLEAR Identity VACE --USE_PARALLEL True"
      ],
      "execution_count": 13,
      "outputs": [
        {
          "output_type": "stream",
          "text": [
            "\n",
            "Eval Config:\n",
            "USE_PARALLEL         : True                          \n",
            "NUM_PARALLEL_CORES   : 8                             \n",
            "BREAK_ON_ERROR       : True                          \n",
            "RETURN_ON_ERROR      : False                         \n",
            "LOG_ON_ERROR         : /content/TrackEval/error_log.txt\n",
            "PRINT_RESULTS        : True                          \n",
            "PRINT_ONLY_COMBINED  : False                         \n",
            "PRINT_CONFIG         : True                          \n",
            "TIME_PROGRESS        : True                          \n",
            "DISPLAY_LESS_PROGRESS : False                         \n",
            "OUTPUT_SUMMARY       : True                          \n",
            "OUTPUT_EMPTY_CLASSES : True                          \n",
            "OUTPUT_DETAILED      : True                          \n",
            "PLOT_CURVES          : True                          \n",
            "\n",
            "MotChallenge2DBox Config:\n",
            "PRINT_CONFIG         : True                          \n",
            "GT_FOLDER            : /content/TrackEval/data/gt/mot_challenge/\n",
            "TRACKERS_FOLDER      : /content/TrackEval/data/trackers/mot_challenge/\n",
            "OUTPUT_FOLDER        : None                          \n",
            "TRACKERS_TO_EVAL     : ['MPNTrack']                  \n",
            "CLASSES_TO_EVAL      : ['pedestrian']                \n",
            "BENCHMARK            : MOT15                         \n",
            "SPLIT_TO_EVAL        : train                         \n",
            "INPUT_AS_ZIP         : False                         \n",
            "DO_PREPROC           : True                          \n",
            "TRACKER_SUB_FOLDER   : data                          \n",
            "OUTPUT_SUB_FOLDER    :                               \n",
            "TRACKER_DISPLAY_NAMES : None                          \n",
            "SEQMAP_FOLDER        : None                          \n",
            "SEQMAP_FILE          : None                          \n",
            "SEQ_INFO             : None                          \n",
            "GT_LOC_FORMAT        : {gt_folder}/{seq}/gt/gt.txt   \n",
            "SKIP_SPLIT_FOL       : False                         \n",
            "\n",
            "CLEAR Config:\n",
            "METRICS              : ['HOTA', 'CLEAR', 'Identity', 'VACE']\n",
            "THRESHOLD            : 0.5                           \n",
            "PRINT_CONFIG         : True                          \n",
            "\n",
            "Identity Config:\n",
            "METRICS              : ['HOTA', 'CLEAR', 'Identity', 'VACE']\n",
            "THRESHOLD            : 0.5                           \n",
            "PRINT_CONFIG         : True                          \n",
            "\n",
            "Evaluating 1 tracker(s) on 11 sequence(s) for 1 class(es) on MotChallenge2DBox dataset using the following metrics: HOTA, CLEAR, Identity, VACE, Count\n",
            "\n",
            "\n",
            "Evaluating MPNTrack\n",
            "\n",
            "\n",
            "All sequences for MPNTrack finished in 5.35 seconds\n",
            "\n",
            "HOTA: MPNTrack-pedestrian          HOTA      DetA      AssA      DetRe     DetPr     AssRe     AssPr     LocA      RHOTA     HOTA(0)   LocA(0)   HOTALocA(0)\n",
            "ADL-Rundle-6                       22.292    32.507    15.599    42.406    49.295    17.867    52.866    74.793    25.59     33.585    63.092    21.189    \n",
            "ADL-Rundle-8                       19.69     25.132    15.556    36.139    39.652    16.627    63.773    74.839    23.661    29.172    62.676    18.284    \n",
            "ETH-Bahnhof                        32.295    35.84     29.435    52.462    46.238    40.888    49.854    76.293    39.198    46.031    67.832    31.224    \n",
            "ETH-Pedcross2                      13.326    10.727    16.84     11.102    60.779    18.126    64.413    73.848    13.58     19.52     61.409    11.987    \n",
            "ETH-Sunnyday                       39.028    33.78     45.197    36.794    67.955    47.758    74.757    78.637    40.758    52.179    72.781    37.976    \n",
            "KITTI-13                           18.994    23.008    16.054    30.37     42.463    18.785    48.184    75.251    21.9      27.383    65.309    17.884    \n",
            "KITTI-17                           37.706    41.693    34.309    44.417    68.173    36.091    68.12     75.269    39        55.713    67.739    37.74     \n",
            "PETS09-S2L1                        28.916    52.562    16.147    66.301    58.533    17.469    61.904    75.537    32.603    42.504    68.603    29.159    \n",
            "TUD-Campus                         31.619    42.482    23.83     47.207    64.195    28.676    51.284    75.105    33.47     46.963    65.658    30.835    \n",
            "TUD-Stadtmitte                     34.815    43.038    28.62     50.068    55.281    31.373    53.262    71.21     37.693    58.725    59.251    34.795    \n",
            "Venice-2                           21.885    28.924    16.723    41.297    43.228    17.901    60.624    76.131    26.212    31.013    66.927    20.756    \n",
            "COMBINED                           25.065    30.693    20.745    40.082    48.502    24.175    59.005    75.357    28.733    36.358    65.799    23.923    \n",
            "\n",
            "CLEAR: MPNTrack-pedestrian         MOTA      MOTP      MODA      CLR_Re    CLR_Pr    MTR       PTR       MLR       sMOTA     CLR_TP    CLR_FN    CLR_FP    IDSW      MT        PT        ML        Frag      \n",
            "ADL-Rundle-6                       17.329    71.946    20.783    53.404    62.079    4.1667    87.5      8.3333    2.3468    2675      2334      1634      173       1         21        2         297       \n",
            "ADL-Rundle-8                       -1.9608   71.858    0.17691   45.658    50.097    21.429    53.571    25        -14.81    3097      3686      3085      145       6         15        7         397       \n",
            "ETH-Bahnhof                        16.399    73.054    20.72     67.091    59.131    30.409    37.427    32.164    -1.6795   3633      1782      2511      234       52        64        55        315       \n",
            "ETH-Pedcross2                      8.4464    70.833    9.7397    14.003    76.661    1.5038    18.045    80.451    4.3621    877       5386      267       81        2         24        107       163       \n",
            "ETH-Sunnyday                       37.998    75.813    38.536    46.34     85.586    10        53.333    36.667    26.789    861       997       145       10        3         16        11        130       \n",
            "KITTI-13                           -4.7244   71.6      7.4803    39.501    55.229    0         54.762    45.238    -15.943   301       461       244       93        0         23        19        40        \n",
            "KITTI-17                           50.22     70.725    54.026    59.59     91.461    11.111    88.889    0         32.775    407       276       38        26        1         8         0         32        \n",
            "PETS09-S2L1                        58.825    71.277    66.086    89.678    79.172    84.211    15.789    0         33.067    4014      462       1056      325       16        3         0         164       \n",
            "TUD-Campus                         44.011    70.195    49.582    61.56     83.712    0         100       0         25.663    221       138       43        20        0         8         0         32        \n",
            "TUD-Stadtmitte                     48.097    65.295    51.471    71.021    78.415    40        60        0         23.449    821       335       226       39        4         6         0         39        \n",
            "Venice-2                           7.0298    72.932    9.9706    52.752    55.218    19.231    65.385    15.385    -7.2492   3767      3374      3055      210       5         17        4         279       \n",
            "COMBINED                           17.577    71.979    20.975    51.808    62.69     18        41        41        3.0597    20674     19231     12304     1356      90        205       205       1888      \n",
            "\n",
            "Identity: MPNTrack-pedestrian      IDF1      IDR       IDP       IDTP      IDFN      IDFP      \n",
            "ADL-Rundle-6                       28.869    26.852    31.214    1345      3664      2964      \n",
            "ADL-Rundle-8                       23.309    22.276    24.442    1511      5272      4671      \n",
            "ETH-Bahnhof                        40.609    43.343    38.2      2347      3068      3797      \n",
            "ETH-Pedcross2                      16.039    9.4843    51.923    594       5669      550       \n",
            "ETH-Sunnyday                       53.98     41.604    76.839    773       1085      233       \n",
            "KITTI-13                           23.412    20.079    28.073    153       609       392       \n",
            "KITTI-17                           55.496    45.827    70.337    313       370       132       \n",
            "PETS09-S2L1                        31.49     33.579    29.645    1503      2973      3567      \n",
            "TUD-Campus                         44.944    38.997    53.03     140       219       124       \n",
            "TUD-Stadtmitte                     50.386    48.01     53.009    555       601       492       \n",
            "Venice-2                           26.083    25.501    26.693    1821      5320      5001      \n",
            "COMBINED                           30.336    27.703    33.522    11055     28850     21923     \n",
            "\n",
            "VACE: MPNTrack-pedestrian          SFDA      ATA       \n",
            "ADL-Rundle-6                       46.057    5.8085    \n",
            "ADL-Rundle-8                       37.962    3.545     \n",
            "ETH-Bahnhof                        49.742    19.073    \n",
            "ETH-Pedcross2                      17.052    8.2544    \n",
            "ETH-Sunnyday                       44.487    24.5      \n",
            "KITTI-13                           26.148    7.581     \n",
            "KITTI-17                           54.763    16.597    \n",
            "PETS09-S2L1                        62.551    5.155     \n",
            "TUD-Campus                         54.115    22.581    \n",
            "TUD-Stadtmitte                     53.778    20.245    \n",
            "Venice-2                           42.234    5.7646    \n",
            "COMBINED                           42.721    9.8618    \n",
            "\n",
            "Count: MPNTrack-pedestrian         Dets      GT_Dets   IDs       GT_IDs    \n",
            "ADL-Rundle-6                       4309      5009      207       24        \n",
            "ADL-Rundle-8                       6182      6783      376       28        \n",
            "ETH-Bahnhof                        6144      5415      291       171       \n",
            "ETH-Pedcross2                      1144      6263      132       133       \n",
            "ETH-Sunnyday                       1006      1858      47        30        \n",
            "KITTI-13                           545       762       120       42        \n",
            "KITTI-17                           445       683       31        9         \n",
            "PETS09-S2L1                        5070      4476      249       19        \n",
            "TUD-Campus                         264       359       23        8         \n",
            "TUD-Stadtmitte                     1047      1156      40        10        \n",
            "Venice-2                           6822      7141      223       26        \n",
            "COMBINED                           32978     39905     1739      500       \n"
          ],
          "name": "stdout"
        }
      ]
    }
  ]
}